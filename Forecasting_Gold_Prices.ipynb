{
  "nbformat": 4,
  "nbformat_minor": 0,
  "metadata": {
    "colab": {
      "provenance": [],
      "authorship_tag": "ABX9TyN5rQhRniiyIL1d3KY5MemS",
      "include_colab_link": true
    },
    "kernelspec": {
      "name": "python3",
      "display_name": "Python 3"
    },
    "language_info": {
      "name": "python"
    }
  },
  "cells": [
    {
      "cell_type": "markdown",
      "metadata": {
        "id": "view-in-github",
        "colab_type": "text"
      },
      "source": [
        "<a href=\"https://colab.research.google.com/github/Ste881/Forecasting-Gold-Price/blob/main/Forecasting_Gold_Prices.ipynb\" target=\"_parent\"><img src=\"https://colab.research.google.com/assets/colab-badge.svg\" alt=\"Open In Colab\"/></a>"
      ]
    },
    {
      "cell_type": "markdown",
      "source": [
        "Importing Libraries"
      ],
      "metadata": {
        "id": "iH3afYKjJl9e"
      }
    },
    {
      "cell_type": "code",
      "execution_count": 1,
      "metadata": {
        "id": "_rGt4BA_CSMq"
      },
      "outputs": [],
      "source": [
        "import numpy as np #for making arrays\n",
        "import pandas as pd #for making structured table\n",
        "import matplotlib.pyplot as plt #for plotting\n",
        "import seaborn as sns #for plotting\n",
        "from sklearn.model_selection import train_test_split #for splitting the data into training and testing data\n",
        "from sklearn.ensemble import RandomForestRegressor #for training the model\n",
        "from sklearn import metrics #for finding the accuracy of the model"
      ]
    }
  ]
}